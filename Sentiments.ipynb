{
  "nbformat": 4,
  "nbformat_minor": 0,
  "metadata": {
    "colab": {
      "provenance": [],
      "authorship_tag": "ABX9TyN5LABO20F7c/FGimxEWLWo",
      "include_colab_link": true
    },
    "kernelspec": {
      "name": "python3",
      "display_name": "Python 3"
    },
    "language_info": {
      "name": "python"
    }
  },
  "cells": [
    {
      "cell_type": "markdown",
      "metadata": {
        "id": "view-in-github",
        "colab_type": "text"
      },
      "source": [
        "<a href=\"https://colab.research.google.com/github/roggersanguzu/Anguzu-Sentiment-Analysis-AI/blob/main/Sentiments.ipynb\" target=\"_parent\"><img src=\"https://colab.research.google.com/assets/colab-badge.svg\" alt=\"Open In Colab\"/></a>"
      ]
    },
    {
      "cell_type": "code",
      "execution_count": null,
      "metadata": {
        "id": "XIuu-X8d2Y6B"
      },
      "outputs": [],
      "source": [
        "import pandas as pd\n",
        "import nltk\n",
        "from nltk.tokenize import word_tokenize\n",
        "from nltk.corpus import stopwords\n",
        "from nltk.stem import WordNetLemmatizer\n",
        "\n",
        "nltk.download('punkt')\n",
        "nltk.download('stopwords')\n",
        "nltk.download('wordnet')\n",
        "nltk.download('punkt_tab' # Add this line to download the missing resource\n",
        "\n",
        "df = pd.read_csv('https://raw.githubusercontent.com/pycaret/pycaret/master/datasets/amazon.csv')\n",
        "\n",
        "def preprocess_text(text):\n",
        "    tokens = word_tokenize(text.lower())\n",
        "    filtered_tokens = [w for w in tokens if w.isalpha() and w not in stopwords.words('english')]\n",
        "    lemmatizer = WordNetLemmatizer()\n",
        "    return ' '.join([lemmatizer.lemmatize(w) for w in filtered_tokens])\n",
        "\n",
        "df['cleaned_review'] = df['reviewText'].apply(preprocess_text)"
      ]
    },
    {
      "cell_type": "code",
      "source": [
        "!pip install transformers datasets torch\n",
        "from transformers import pipeline"
      ],
      "metadata": {
        "id": "0oXqPY812kmv"
      },
      "execution_count": null,
      "outputs": []
    },
    {
      "cell_type": "code",
      "source": [
        "import torch\n",
        "torch.cuda.is_available()"
      ],
      "metadata": {
        "id": "9gvvCbVV2rAd"
      },
      "execution_count": null,
      "outputs": []
    },
    {
      "cell_type": "code",
      "source": [
        "classifier = pipeline(\"sentiment-analysis\", model=\"distilbert-base-uncased-finetuned-sst-2-english\")\n",
        "\n",
        "df['bert_sentiment'] = df['reviewText'].apply(lambda x: classifier(x)[0]['label'])\n",
        "df['bert_sentiment'] = df['bert_sentiment'].map({'POSITIVE': 1, 'NEGATIVE': 0})\n",
        "\n",
        "print(classification_report(df['Positive'], df['bert_sentiment']))\n"
      ],
      "metadata": {
        "id": "ASi3Jz2R2rns"
      },
      "execution_count": null,
      "outputs": []
    },
    {
      "cell_type": "code",
      "source": [
        "from sklearn.metrics import accuracy_score\n",
        "\n",
        "vader_acc = accuracy_score(df['Positive'], df['vader_sentiment'])\n",
        "bert_acc = accuracy_score(df['Positive'], df['bert_sentiment'])\n",
        "\n",
        "print(f\"VADER Accuracy: {vader_acc:.2f}\")\n",
        "print(f\"BERT Accuracy: {bert_acc:.2f}\")\n"
      ],
      "metadata": {
        "id": "c-z4CoiB2t4Z"
      },
      "execution_count": null,
      "outputs": []
    },
    {
      "cell_type": "code",
      "source": [
        "import gradio as gr\n",
        "from transformers import pipeline\n",
        "import torch\n",
        "\n",
        "device = 0 if torch.cuda.is_available() else -1\n",
        "classifier = pipeline(\"sentiment-analysis\", model=\"distilbert-base-uncased-finetuned-sst-2-english\", device=device)\n",
        "\n",
        "def predict_sentiment(text):\n",
        "    if not text.strip():\n",
        "        return \" Please enter some text.\"\n",
        "\n",
        "    result = classifier(text)[0]\n",
        "    label = result['label']\n",
        "    score = round(result['score'], 4)\n",
        "\n",
        "    emoji = \"😃\" if label == \"POSITIVE\" else \"😠\"\n",
        "    verdict = f\"{emoji} {label} ({score * 100:.1f}% confidence)\"\n",
        "\n",
        "    return verdict\n",
        "\n",
        "demo = gr.Interface(\n",
        "    fn=predict_sentiment,\n",
        "    inputs=gr.Textbox(\n",
        "        lines=5,\n",
        "        placeholder=\"Paste your Amazon review, tweet, or customer rant here...\",\n",
        "        label=\"Enter Text\"\n",
        "    ),\n",
        "    outputs=gr.Text(label=\" Anguzu's AI Sentiment Analysis\"),\n",
        "    title=\"Anguzu Sentiment AI\",\n",
        "    description=\"\"\"\n",
        "Built by Anguzu,I believer emotions matter, and data doesn't lie.\n",
        "This AI uses transformer-based deep learning to classify text as either positive or negative.\n",
        "Try me on feedback, tweets, product reviews, or even your ex’s last message .\n",
        "\n",
        "Examples:\n",
        "- “I love this app  it's pure genius!”\n",
        "- “Total garbage. Waste of my time.”\n",
        "- “Eh... it works okay I guess.”\n",
        "\"\"\",\n",
        "    theme=\"soft\",\n",
        "    allow_flagging=\"never\"\n",
        ")\n",
        "\n",
        "demo.launch()\n"
      ],
      "metadata": {
        "id": "7bhy5ARm2y1W"
      },
      "execution_count": null,
      "outputs": []
    },
    {
      "cell_type": "code",
      "source": [
        "from transformers import AutoTokenizer, AutoModelForSequenceClassification\n",
        "\n",
        "model_name = \"distilbert-base-uncased-finetuned-sst-2-english\"\n",
        "\n",
        "tokenizer = AutoTokenizer.from_pretrained(model_name)\n",
        "model = AutoModelForSequenceClassification.from_pretrained(model_name)\n",
        "\n",
        "tokenizer.save_pretrained(\"./anguzu-sentiment-model\")\n",
        "model.save_pretrained(\"./anguzu-sentiment-model\")\n"
      ],
      "metadata": {
        "id": "B_Q6uxSX21Kk"
      },
      "execution_count": null,
      "outputs": []
    }
  ]
}